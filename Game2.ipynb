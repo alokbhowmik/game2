{
 "cells": [
  {
   "cell_type": "code",
   "execution_count": 1,
   "metadata": {},
   "outputs": [
    {
     "name": "stdout",
     "output_type": "stream",
     "text": [
      "pygame 1.9.4\n",
      "Hello from the pygame community. https://www.pygame.org/contribute.html\n"
     ]
    }
   ],
   "source": []
  },
  {
   "cell_type": "code",
   "execution_count": 1,
   "metadata": {},
   "outputs": [
    {
     "name": "stdout",
     "output_type": "stream",
     "text": [
      "pygame 1.9.4\n",
      "Hello from the pygame community. https://www.pygame.org/contribute.html\n"
     ]
    }
   ],
   "source": [
    "import pygame\n",
    "import sys\n",
    "import random\n",
    "\n",
    "count=0\n",
    "\n",
    "pygame.init()\n",
    "width=800\n",
    "hight=600\n",
    "screen =pygame.display.set_mode((width,hight))\n",
    "\n",
    "clk=pygame.time.Clock()\n",
    "\n",
    "red=(255,0,0)\n",
    "black=(0,0,0)\n",
    "blue=(0,0,255)\n",
    "yellow=(255,255,0)\n",
    "\n",
    "speed=10\n",
    "player_speed=30\n",
    "\n",
    "\n",
    "\n",
    "player_size=50\n",
    "player_pos=[width/2,hight-2*player_size]\n",
    "\n",
    "enemy_size=50\n",
    "enemy_pos=[random.randint(0,width-enemy_size),0]\n",
    "enemy_list=[enemy_pos]\n",
    "\n",
    "font=pygame.font.SysFont(\"monospace\",30)\n",
    "\n",
    "score=0\n",
    "# highest_score=0\n",
    "\n",
    "\n",
    "def setscore(text,x,y):\n",
    "    \n",
    "    lable=font.render(text,True,yellow)\n",
    "    screen.blit(lable,(x,y))\n",
    "    \n",
    "    \n",
    "def dropEnemy(enemy_list):\n",
    "    delay=random.random()\n",
    "    if len(enemy_list)<10 and delay<0.2:\n",
    "        \n",
    "        x_pos=random.randint(0,width-enemy_size)\n",
    "        y_pos=0\n",
    "        enemy_list.append([x_pos,y_pos])\n",
    "        clk.tick(30)\n",
    "#         pygame.time.delay(delay)\n",
    "\n",
    "        \n",
    "def drawEnemy(enemy_list):\n",
    "    for enemy_pos in enemy_list:\n",
    "        pygame.draw.rect(screen,blue,(enemy_pos[0],enemy_pos[1],enemy_size,enemy_size))\n",
    "        \n",
    "        \n",
    "def updata_enemy_pos(enemy_list,score):\n",
    "    for ind,enemy_pos in enumerate(enemy_list):\n",
    "        if enemy_pos[1]>=0 and enemy_pos[1]<width:\n",
    "#             speed+=count*10\n",
    "            enemy_pos[1]+=speed\n",
    "            \n",
    "        else:\n",
    "            enemy_list.pop(ind)\n",
    "            score+=1\n",
    "    return score\n",
    "            \n",
    "def enemy_colletion(enemy_list,player_pos):\n",
    "    for enemy_pos in enemy_list:\n",
    "        if destroy(player_pos,enemy_pos):\n",
    "            return True\n",
    "    return False\n",
    "\n",
    "    \n",
    "def destroy(player_pos,enemy_pos):\n",
    "    px=player_pos[0]\n",
    "    py=player_pos[1]\n",
    "    \n",
    "    ex=enemy_pos[0]\n",
    "    ey=enemy_pos[1]\n",
    "    \n",
    "    if (px<=ex and (ex<px+player_size)) or (ex<=px and (ex+enemy_size>px)):\n",
    "        if (py<(ex+enemy_size) and ey>=py)or (py>=ey and py<ey+enemy_size):\n",
    "            return True\n",
    "    return False\n",
    "\n",
    "\n",
    "gameover=False\n",
    "\n",
    "while not gameover:\n",
    "    with open (\"abc.txt\",'r') as f:\n",
    "        highest_score=f.read()\n",
    "    \n",
    "        for event in pygame.event.get():\n",
    "\n",
    "            if event.type == pygame.QUIT:\n",
    "                gameover=True\n",
    "            if event.type == pygame.KEYDOWN:\n",
    "                if event.key == pygame.K_LEFT:\n",
    "                    player_pos[0]-=player_speed\n",
    "                elif event.key == pygame.K_RIGHT:\n",
    "                    player_pos[0]+=player_speed\n",
    "\n",
    "    #     text_screen(\"Score: \" + str(0), red, 15, 25)  \n",
    "\n",
    "\n",
    "        if enemy_colletion(enemy_list,player_pos):\n",
    "            gameover=True\n",
    "\n",
    "\n",
    "        clk.tick(30)\n",
    "\n",
    "        screen.fill(black)        \n",
    "        pygame.draw.rect(screen,red,(player_pos[0],player_pos[1],player_size,player_size))\n",
    "        dropEnemy(enemy_list)\n",
    "        score=updata_enemy_pos(enemy_list,score)\n",
    "        if(str(score)>(highest_score)):\n",
    "            highest_score=str(score)\n",
    "\n",
    "\n",
    "       \n",
    "        with open('abc.txt','w')as f:\n",
    "            f.write(str(highest_score))\n",
    "#         highest_score=f.read()\n",
    "    \n",
    "    \n",
    "   \n",
    "    \n",
    "    \n",
    "        setscore(\"Score :\"+str(score),width-200,hight-100)\n",
    "        setscore(\"Highest Score :\"+str(highest_score),0,hight-100)\n",
    "        drawEnemy(enemy_list)\n",
    "    #     f.close()\n",
    "\n",
    "\n",
    "    #     print(score)\n",
    "\n",
    "\n",
    "\n",
    "\n",
    "        pygame.display.update()\n",
    "pygame.quit()\n",
    "quit()"
   ]
  },
  {
   "cell_type": "code",
   "execution_count": 1,
   "metadata": {},
   "outputs": [
    {
     "ename": "NameError",
     "evalue": "name 'highest_score' is not defined",
     "output_type": "error",
     "traceback": [
      "\u001b[1;31m---------------------------------------------------------------------------\u001b[0m",
      "\u001b[1;31mNameError\u001b[0m                                 Traceback (most recent call last)",
      "\u001b[1;32m<ipython-input-1-8c1060dea4c7>\u001b[0m in \u001b[0;36m<module>\u001b[1;34m()\u001b[0m\n\u001b[1;32m----> 1\u001b[1;33m \u001b[0mprint\u001b[0m\u001b[1;33m(\u001b[0m\u001b[0mhighest_score\u001b[0m\u001b[1;33m)\u001b[0m\u001b[1;33m\u001b[0m\u001b[0m\n\u001b[0m",
      "\u001b[1;31mNameError\u001b[0m: name 'highest_score' is not defined"
     ]
    }
   ],
   "source": [
    "print(highest_score)"
   ]
  },
  {
   "cell_type": "code",
   "execution_count": 8,
   "metadata": {},
   "outputs": [
    {
     "name": "stdout",
     "output_type": "stream",
     "text": [
      "10\n"
     ]
    }
   ],
   "source": [
    "with open(\"abc.txt\",'r') as f :\n",
    "    r=f.read()\n",
    "    print(r)"
   ]
  },
  {
   "cell_type": "code",
   "execution_count": null,
   "metadata": {},
   "outputs": [],
   "source": [
    "print()"
   ]
  }
 ],
 "metadata": {
  "kernelspec": {
   "display_name": "Python 3",
   "language": "python",
   "name": "python3"
  },
  "language_info": {
   "codemirror_mode": {
    "name": "ipython",
    "version": 3
   },
   "file_extension": ".py",
   "mimetype": "text/x-python",
   "name": "python",
   "nbconvert_exporter": "python",
   "pygments_lexer": "ipython3",
   "version": "3.6.4"
  }
 },
 "nbformat": 4,
 "nbformat_minor": 2
}
